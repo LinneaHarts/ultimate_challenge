{
 "cells": [
  {
   "cell_type": "markdown",
   "metadata": {},
   "source": [
    "# Part 2: Experiment and Metrics Design #\n",
    "\n",
    "The neighboring cities of Gotham and Metropolis have complementary circadian rhythms: on weekdays, Ultimate Gotham is most active at night, and Ultimate Metropolis is most active during the day. On weekends, there is reasonable activity in both cities.\n",
    "\n",
    "However, a toll bridge, with a two-way toll, between the cities causes drive partners to tend to be exclusive to each city. The Ultimate managers of city operations for the two cities have proposed an experiment to encourage driver partners to be available in both cities, but reimbursing all toll costs."
   ]
  },
  {
   "cell_type": "markdown",
   "metadata": {},
   "source": [
    "### 1. What would you choose as the key measure of succes in this experiment in encouraging driver partners to serve both cities and why would you choose this metric? ###\n",
    "\n",
    "__Assumptions:__\n",
    "\n",
    "a. Ultimate's final goal is to make more money, so they could be successful in encouraging drivers to serve both cities, but if it cost them money, the experiment would not be a business success overall.\n",
    "\n",
    "b. Several things contribute to money-making. Most car companies have a minimum charge, so the best case is many short trips, so the driver is always fully booked. The next best case is longer trips, but still keeping the driver fully booked.\n",
    "\n",
    "c. Most car companies pass on the toll charge on to passengers, so I'm also going to assume that the problem with drivers not serving both cities is that drivers don't cross over into the other city without a passenger, and then miss out on fares when they're in the city with less activity. \n",
    "\n",
    "d. Drivers are independent contractors who would also like to make more money per shift, and if they make more money per shift, Ultimate profits more\n",
    "\n",
    "__I would choose the key, final measure of success to be Ultimate's profit__. I would also want to look at number and duration of rides, but a company's goal is usually profit so that makes sense as a metric. For the experiment design, and metrics chosen, see below."
   ]
  },
  {
   "cell_type": "markdown",
   "metadata": {},
   "source": [
    "### 2. Describe a practical experiment you would design to compare the effectiveness of the proposed change in relation to the key metric of success. ###\n",
    "\n",
    "### a. How will you implement the experiment ###\n",
    "\n",
    "If the assumptions above hold true, I would also assume that Ultimate would like the experiment to risk as little money as possible. Therefore I would like to reimburse drivers for their tolls only at the beginning and end of the day on weekdays. I would do this for one month, and measure:\n",
    "\n",
    "1. Ultimate profit per driver per shift\n",
    "2. Total number of rides\n",
    "3. Duration of rides\n",
    "\n",
    "I would compare this to the same month a year earlier, if this was a viable comparison, with appropriate scaling. For instance, if the company has generally grown by 10% in the last year, then profit would need to do better than that. \n",
    "\n",
    "### b. What statistical test(s) will you conduct to verify the signficance of the observation ###\n",
    "\n",
    "My null hypothesis would be that there is no difference in Ultimate profit per driver per shift, scaled for fare increases and inflation, between the month during which the experiment took place and the same month a year earlier. I would use a p-test with a 95% confidence interval to verify this.\n",
    "\n",
    "A quick, non-statistical, heuristic, though, would be to look at whether Ultimate profits went up, compared with the same month a year earlier, scaled for company growth, fare increases, and inflation.\n",
    "\n",
    "### c. How would you interpret the results and provide recommendations to the city operations along with any caveats? ###\n",
    "\n",
    "If the company's profit went up, then I would recommend they continue the program. However, the experiment I designed was very targeted simply to shift change. If drivers are not fully utilized, Ultimate could conduct a further experiment to reimburse all toll-crossings, and see if that drove up the number of trips, drivers and passengers willing to cross the bridge, and the profit in a statistically significant way. \n",
    "\n",
    "If the company's profits didn't go up, or even if it did, I would want to verify all the assumptions, and also talk with drivers, and perhaps do a user study to determine how crossing the bridge figures into drivers' and passengers' decision-making. \n",
    "\n",
    "If the drivers are fully utilized, taking trips across the bridge might not be to the company's advantage, so I would want to find out how utilized the drivers are before implementing this experiment at all."
   ]
  },
  {
   "cell_type": "code",
   "execution_count": null,
   "metadata": {},
   "outputs": [],
   "source": []
  }
 ],
 "metadata": {
  "kernelspec": {
   "display_name": "Python 3",
   "language": "python",
   "name": "python3"
  },
  "language_info": {
   "codemirror_mode": {
    "name": "ipython",
    "version": 3
   },
   "file_extension": ".py",
   "mimetype": "text/x-python",
   "name": "python",
   "nbconvert_exporter": "python",
   "pygments_lexer": "ipython3",
   "version": "3.7.6"
  }
 },
 "nbformat": 4,
 "nbformat_minor": 4
}
